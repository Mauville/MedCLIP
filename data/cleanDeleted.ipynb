{
  "nbformat": 4,
  "nbformat_minor": 5,
  "metadata": {
    "kernelspec": {
      "display_name": "Python 3 (ipykernel)",
      "language": "python",
      "name": "python3"
    },
    "language_info": {
      "codemirror_mode": {
        "name": "ipython",
        "version": 3
      },
      "file_extension": ".py",
      "mimetype": "text/x-python",
      "name": "python",
      "nbconvert_exporter": "python",
      "pygments_lexer": "ipython3",
      "version": "3.8.5"
    },
    "colab": {
      "name": "cleanDeleted.ipynb",
      "provenance": []
    }
  },
  "cells": [
    {
      "cell_type": "code",
      "metadata": {
        "id": "053e3682"
      },
      "source": [
        "# Update .csv to reflect changes in the /output/ dir\""
      ],
      "id": "053e3682",
      "execution_count": null,
      "outputs": []
    },
    {
      "cell_type": "code",
      "metadata": {
        "id": "af8ed7a5"
      },
      "source": [
        "import os\n",
        "import pandas as pd"
      ],
      "id": "af8ed7a5",
      "execution_count": null,
      "outputs": []
    },
    {
      "cell_type": "code",
      "metadata": {
        "id": "c6e30f82"
      },
      "source": [
        "df = pd.read_csv('medpix.csv')\n",
        "imagelist = set(os.listdir(\"./output/output\"))\n"
      ],
      "id": "c6e30f82",
      "execution_count": null,
      "outputs": []
    },
    {
      "cell_type": "code",
      "metadata": {
        "scrolled": false,
        "id": "e9d4c776"
      },
      "source": [
        "# OPTINAL: add filename col\n",
        "# df['filename'] = df[\"Image_URL\"].map(lambda data: data.split(\"/\")[-1])\n"
      ],
      "id": "e9d4c776",
      "execution_count": null,
      "outputs": []
    },
    {
      "cell_type": "code",
      "metadata": {
        "id": "2ebf60e4"
      },
      "source": [
        "# Create new ds only with images in filelist\n",
        "newdf = df[df['filename'].isin(imagelist)]"
      ],
      "id": "2ebf60e4",
      "execution_count": null,
      "outputs": []
    },
    {
      "cell_type": "code",
      "metadata": {
        "id": "1a55d930"
      },
      "source": [
        "newdf.to_csv(\"cleansed.csv\", index=False)"
      ],
      "id": "1a55d930",
      "execution_count": null,
      "outputs": []
    }
  ]
}